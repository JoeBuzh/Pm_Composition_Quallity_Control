{
 "cells": [
  {
   "cell_type": "code",
   "execution_count": 3,
   "metadata": {},
   "outputs": [],
   "source": [
    "# -*- coding: utf-8 -*-\n",
    "\n",
    "import os\n",
    "import sys\n",
    "import xlrd\n",
    "\n",
    "import folium\n",
    "import numpy as np\n",
    "import pandas as pd\n",
    "from rtree import index\n",
    "\n",
    "PM = ['PM10', 'PM25']\n",
    "IONIC = ['F-','Cl-','NO3-','SO42-','Ca2+','Na+','K+','NH4+','Mg2+']\n",
    "OCEC = ['OC','EC']\n",
    "METAL = [\n",
    "    'Hg','Br','As','Si','Se','Te','V','Ca','Ti','Ba','Sc','Pd','Co','Mo','K',\n",
    "    'Fe','Pb','TI','Cu','Al','Cr','Cs','Ag','Zn','Sb','Sn','Mn','Cd','Ni','Ga'\n",
    "]"
   ]
  },
  {
   "cell_type": "code",
   "execution_count": 4,
   "metadata": {},
   "outputs": [],
   "source": [
    "def read_txt(filename: str, sep:str=None):\n",
    "    '''\n",
    "        文件读取\n",
    "    '''\n",
    "    assert os.path.exists(filename)\n",
    "    df = pd.read_table(filename, sep=sep, encoding='utf-8', engine='python', error_bad_lines=False)\n",
    "\n",
    "    return df\n",
    "\n",
    "def read_org(filepath: str):\n",
    "    '''\n",
    "        Read *.txt data file.\n",
    "    '''\n",
    "    assert os.path.join(filepath)\n",
    "\n",
    "    data = pd.read_csv(filepath, sep=',', \n",
    "        names=['time','stationcode','longitude','latitude']+PM+IONIC+OCEC+METAL,\n",
    "        encoding='utf-8')\n",
    "    data.replace(-999.0, np.nan, inplace=True)\n",
    "\n",
    "    return data"
   ]
  },
  {
   "cell_type": "code",
   "execution_count": 5,
   "metadata": {},
   "outputs": [],
   "source": [
    "qc_src = '../data/qc_data'\n",
    "nearby_file = '../data/nearby_envi.txt'\n",
    "qc_dst = '../data/qc_data_pm'"
   ]
  },
  {
   "cell_type": "code",
   "execution_count": 6,
   "metadata": {},
   "outputs": [],
   "source": [
    "mapping = {\n",
    "    110000006: 110000249, 371500001: 371500053, 150100001: 150100054, 1320100001: 320100054, 410200001: 410200062, 140100002: 140100063, 340100001: 340100204, 410300001: 410300057, 610100002: 610100053, 1320300001: 320300058, 130600003: 130600062, 130500001: 130500405, 110000005: 110000252,1640100001: 640100059, 130700002: 130700407, 141000001: 141000072, 1411200001: 411200403, 130300002: 130300053, 140500001: 140500053, 140300001: 140300053, 120000005: 120000186, 320100001: 320100054, 370100001: 370100056, 110000016: 110000253, 120000004: 120000186, 370300001: 370300052, 130600004: 130600063, 140400001: 140400052, 430100001: 430100070, 131000005: 131000409, 110000004: 110000246, 130900003: 130900403, 371400003: 371500053, 130300001: 130300055, 131000003: 131000409, 1320200001: 320200104, 110000010: 110000252, 130200001: 130200088, 110000002: 110000252, 131100003: 131100408, 110000008: 131000409, 410500002: 410500058, 130400002: 130400053, 370800001: 370800051, 110000009: 131000403, 110000011: 110000249, 120000001: 120000306, 131000004: 131000403, 410900001: 410900401, 410700002: 410700403, 130100005: 130100052, 120000006: 110000253, 410100002: 410100052, 130700003: 130700401, 130500002: 130500406, 410800001: 410800052, 130200002: 130200052, 410500001: 410500058, 140800001: 140800095, 371700001: 371700052, 410100003: 410100065, 371400002: 371400054, 1320500001: 320500055, 110000003: 131000402, 350100002: 350100058, 131100002: 131100408, 130600002: 130600061, 1320600001: 320600005, 410600001: 410600403, 370100002: 370100052, 130100004: 130100057, 1340100001: 340100054, 371600001: 371600051, 110000001: 110000246, 110000012: 110000246, 1306000001: 110000249, 1307000001: 130700401, 1311000001: 131100401, 3701000001: 370181002, 1200000004: 120000123, 120000003: 120000309, 140100001: 140100057}"
   ]
  },
  {
   "cell_type": "code",
   "execution_count": 13,
   "metadata": {
    "tags": [
     "outputPrepend"
    ]
   },
   "outputs": [
    {
     "output_type": "stream",
     "name": "stderr",
     "text": "2 fields in line 542519, saw 13\nSkipping line 542643: Expected 12 fields in line 542643, saw 13\nSkipping line 542695: Expected 12 fields in line 542695, saw 13\nSkipping line 542756: Expected 12 fields in line 542756, saw 13\nSkipping line 542954: Expected 12 fields in line 542954, saw 13\nSkipping line 543476: Expected 12 fields in line 543476, saw 13\nSkipping line 543617: Expected 12 fields in line 543617, saw 13\nSkipping line 543830: Expected 12 fields in line 543830, saw 13\nSkipping line 544234: Expected 12 fields in line 544234, saw 13\nSkipping line 544764: Expected 12 fields in line 544764, saw 13\nSkipping line 545111: Expected 12 fields in line 545111, saw 13\nSkipping line 545267: Expected 12 fields in line 545267, saw 13\nSkipping line 545459: Expected 12 fields in line 545459, saw 13\nSkipping line 545903: Expected 12 fields in line 545903, saw 13\nSkipping line 545904: Expected 12 fields in line 545904, saw 13\nSkipping line 546190: Expected 12 fields in line 546190, saw 13\nSkipping line 546327: Expected 12 fields in line 546327, saw 13\nSkipping line 546386: Expected 12 fields in line 546386, saw 13\nSkipping line 546393: Expected 12 fields in line 546393, saw 13\nSkipping line 546403: Expected 12 fields in line 546403, saw 13\nSkipping line 546452: Expected 12 fields in line 546452, saw 13\nSkipping line 546564: Expected 12 fields in line 546564, saw 13\nSkipping line 546600: Expected 12 fields in line 546600, saw 13\nSkipping line 546676: Expected 12 fields in line 546676, saw 13\nSkipping line 546742: Expected 12 fields in line 546742, saw 13\nSkipping line 546762: Expected 12 fields in line 546762, saw 13\nSkipping line 546846: Expected 12 fields in line 546846, saw 13\nSkipping line 546910: Expected 12 fields in line 546910, saw 13\nSkipping line 546912: Expected 12 fields in line 546912, saw 13\nSkipping line 546916: Expected 12 fields in line 546916, saw 13\nSkipping line 547000: Expected 12 fields in line 547000, saw 13\nSkipping line 547066: Expected 12 fields in line 547066, saw 13\nSkipping line 547158: Expected 12 fields in line 547158, saw 13\nSkipping line 547339: Expected 12 fields in line 547339, saw 13\nSkipping line 547374: Expected 12 fields in line 547374, saw 13\nSkipping line 547669: Expected 12 fields in line 547669, saw 13\nSkipping line 547837: Expected 12 fields in line 547837, saw 13\nSkipping line 547839: Expected 12 fields in line 547839, saw 13\nSkipping line 547874: Expected 12 fields in line 547874, saw 13\nSkipping line 547946: Expected 12 fields in line 547946, saw 13\nSkipping line 547986: Expected 12 fields in line 547986, saw 13\nSkipping line 548000: Expected 12 fields in line 548000, saw 13\nSkipping line 548003: Expected 12 fields in line 548003, saw 13\nSkipping line 548008: Expected 12 fields in line 548008, saw 13\nSkipping line 548068: Expected 12 fields in line 548068, saw 13\nSkipping line 548069: Expected 12 fields in line 548069, saw 13\nSkipping line 548086: Expected 12 fields in line 548086, saw 13\nSkipping line 548144: Expected 12 fields in line 548144, saw 13\nSkipping line 548181: Expected 12 fields in line 548181, saw 13\nSkipping line 548203: Expected 12 fields in line 548203, saw 13\nSkipping line 548269: Expected 12 fields in line 548269, saw 13\nSkipping line 548271: Expected 12 fields in line 548271, saw 13\nSkipping line 548300: Expected 12 fields in line 548300, saw 13\nSkipping line 548417: Expected 12 fields in line 548417, saw 13\nSkipping line 548481: Expected 12 fields in line 548481, saw 13\nSkipping line 548503: Expected 12 fields in line 548503, saw 13\nSkipping line 548545: Expected 12 fields in line 548545, saw 13\nSkipping line 548612: Expected 12 fields in line 548612, saw 13\nSkipping line 548667: Expected 12 fields in line 548667, saw 13\nSkipping line 548668: Expected 12 fields in line 548668, saw 13\nSkipping line 548734: Expected 12 fields in line 548734, saw 13\nSkipping line 548762: Expected 12 fields in line 548762, saw 13\nSkipping line 548797: Expected 12 fields in line 548797, saw 13\nSkipping line 548801: Expected 12 fields in line 548801, saw 13\nSkipping line 548876: Expected 12 fields in line 548876, saw 13\nSkipping line 548894: Expected 12 fields in line 548894, saw 13\nSkipping line 549014: Expected 12 fields in line 549014, saw 13\nSkipping line 549146: Expected 12 fields in line 549146, saw 13\nSkipping line 549150: Expected 12 fields in line 549150, saw 13\nSkipping line 549216: Expected 12 fields in line 549216, saw 13\nSkipping line 549237: Expected 12 fields in line 549237, saw 13\nSkipping line 549244: Expected 12 fields in line 549244, saw 13\nSkipping line 549285: Expected 12 fields in line 549285, saw 13\nSkipping line 549402: Expected 12 fields in line 549402, saw 13\nSkipping line 549666: Expected 12 fields in line 549666, saw 13\nSkipping line 549867: Expected 12 fields in line 549867, saw 13\nSkipping line 549946: Expected 12 fields in line 549946, saw 13\nSkipping line 549961: Expected 12 fields in line 549961, saw 13\nSkipping line 550012: Expected 12 fields in line 550012, saw 13\nSkipping line 550102: Expected 12 fields in line 550102, saw 13\nSkipping line 550159: Expected 12 fields in line 550159, saw 13\nSkipping line 550234: Expected 12 fields in line 550234, saw 13\nSkipping line 550263: Expected 12 fields in line 550263, saw 13\nSkipping line 550277: Expected 12 fields in line 550277, saw 13\nSkipping line 550341: Expected 12 fields in line 550341, saw 13\nSkipping line 550457: Expected 12 fields in line 550457, saw 13\nSkipping line 550470: Expected 12 fields in line 550470, saw 13\nSkipping line 550611: Expected 12 fields in line 550611, saw 13\nSkipping line 550768: Expected 12 fields in line 550768, saw 13\nSkipping line 550963: Expected 12 fields in line 550963, saw 13\nSkipping line 551000: Expected 12 fields in line 551000, saw 13\nSkipping line 551001: Expected 12 fields in line 551001, saw 13\nSkipping line 551003: Expected 12 fields in line 551003, saw 13\nSkipping line 551069: Expected 12 fields in line 551069, saw 13\nSkipping line 551135: Expected 12 fields in line 551135, saw 13\nSkipping line 551160: Expected 12 fields in line 551160, saw 13\nSkipping line 551191: Expected 12 fields in line 551191, saw 13\nSkipping line 551201: Expected 12 fields in line 551201, saw 13\nSkipping line 551237: Expected 12 fields in line 551237, saw 13\nSkipping line 551243: Expected 12 fields in line 551243, saw 13\nSkipping line 551248: Expected 12 fields in line 551248, saw 13\nSkipping line 551282: Expected 12 fields in line 551282, saw 13\nSkipping line 551306: Expected 12 fields in line 551306, saw 13\nSkipping line 551323: Expected 12 fields in line 551323, saw 13\nSkipping line 551324: Expected 12 fields in line 551324, saw 13\nSkipping line 551380: Expected 12 fields in line 551380, saw 13\nSkipping line 551414: Expected 12 fields in line 551414, saw 13\nSkipping line 551425: Expected 12 fields in line 551425, saw 13\nSkipping line 551435: Expected 12 fields in line 551435, saw 13\nSkipping line 551513: Expected 12 fields in line 551513, saw 13\nSkipping line 551554: Expected 12 fields in line 551554, saw 13\nSkipping line 551564: Expected 12 fields in line 551564, saw 13\nSkipping line 551567: Expected 12 fields in line 551567, saw 13\nSkipping line 551639: Expected 12 fields in line 551639, saw 13\nSkipping line 551671: Expected 12 fields in line 551671, saw 13\nSkipping line 551679: Expected 12 fields in line 551679, saw 13\nSkipping line 551727: Expected 12 fields in line 551727, saw 13\nSkipping line 551745: Expected 12 fields in line 551745, saw 13\nSkipping line 551764: Expected 12 fields in line 551764, saw 13\nSkipping line 551902: Expected 12 fields in line 551902, saw 13\nSkipping line 551908: Expected 12 fields in line 551908, saw 13\nSkipping line 551942: Expected 12 fields in line 551942, saw 13\nSkipping line 552001: Expected 12 fields in line 552001, saw 13\nSkipping line 552019: Expected 12 fields in line 552019, saw 13\nSkipping line 552144: Expected 12 fields in line 552144, saw 13\nSkipping line 552230: Expected 12 fields in line 552230, saw 13\nSkipping line 552458: Expected 12 fields in line 552458, saw 13\nSkipping line 552492: Expected 12 fields in line 552492, saw 13\nSkipping line 552620: Expected 12 fields in line 552620, saw 13\nSkipping line 552691: Expected 12 fields in line 552691, saw 13\nSkipping line 552713: Expected 12 fields in line 552713, saw 13\nSkipping line 552920: Expected 12 fields in line 552920, saw 13\nSkipping line 553938: Expected 12 fields in line 553938, saw 13\nSkipping line 554382: Expected 12 fields in line 554382, saw 13\nSkipping line 554461: Expected 12 fields in line 554461, saw 13\nSkipping line 554973: Expected 12 fields in line 554973, saw 13\nSkipping line 555165: Expected 12 fields in line 555165, saw 13\nSkipping line 555335: Expected 12 fields in line 555335, saw 13\nSkipping line 555390: Expected 12 fields in line 555390, saw 13\nSkipping line 555514: Expected 12 fields in line 555514, saw 13\nSkipping line 555533: Expected 12 fields in line 555533, saw 13\nSkipping line 555720: Expected 12 fields in line 555720, saw 13\nSkipping line 555964: Expected 12 fields in line 555964, saw 13\nSkipping line 555984: Expected 12 fields in line 555984, saw 13\nSkipping line 556085: Expected 12 fields in line 556085, saw 13\nSkipping line 556099: Expected 12 fields in line 556099, saw 13\nSkipping line 556627: Expected 12 fields in line 556627, saw 13\nSkipping line 556676: Expected 12 fields in line 556676, saw 13\nSkipping line 556680: Expected 12 fields in line 556680, saw 13\nSkipping line 556740: Expected 12 fields in line 556740, saw 13\nSkipping line 556807: Expected 12 fields in line 556807, saw 13\nSkipping line 556808: Expected 12 fields in line 556808, saw 13\nSkipping line 556958: Expected 12 fields in line 556958, saw 13\nSkipping line 557076: Expected 12 fields in line 557076, saw 13\nSkipping line 557308: Expected 12 fields in line 557308, saw 13\nSkipping line 557485: Expected 12 fields in line 557485, saw 13\nSkipping line 557504: Expected 12 fields in line 557504, saw 13\nSkipping line 557533: Expected 12 fields in line 557533, saw 13\nSkipping line 557542: Expected 12 fields in line 557542, saw 13\nSkipping line 557695: Expected 12 fields in line 557695, saw 13\nSkipping line 557751: Expected 12 fields in line 557751, saw 13\nSkipping line 557843: Expected 12 fields in line 557843, saw 13\nSkipping line 557971: Expected 12 fields in line 557971, saw 13\nSkipping line 557987: Expected 12 fields in line 557987, saw 13\nSkipping line 558047: Expected 12 fields in line 558047, saw 13\nSkipping line 558179: Expected 12 fields in line 558179, saw 13\nSkipping line 558437: Expected 12 fields in line 558437, saw 13\nSkipping line 558443: Expected 12 fields in line 558443, saw 13\nSkipping line 558462: Expected 12 fields in line 558462, saw 13\nSkipping line 558795: Expected 12 fields in line 558795, saw 13\nSkipping line 558855: Expected 12 fields in line 558855, saw 13\nSkipping line 558866: Expected 12 fields in line 558866, saw 13\nSkipping line 559030: Expected 12 fields in line 559030, saw 13\nSkipping line 559195: Expected 12 fields in line 559195, saw 13\nSkipping line 559228: Expected 12 fields in line 559228, saw 13\nSkipping line 559525: Expected 12 fields in line 559525, saw 13\nSkipping line 559558: Expected 12 fields in line 559558, saw 13\nSkipping line 560218: Expected 12 fields in line 560218, saw 13\nSkipping line 560434: Expected 12 fields in line 560434, saw 13\nSkipping line 560551: Expected 12 fields in line 560551, saw 13\nSkipping line 560681: Expected 12 fields in line 560681, saw 13\nSkipping line 560750: Expected 12 fields in line 560750, saw 13\nSkipping line 560816: Expected 12 fields in line 560816, saw 13\nSkipping line 560873: Expected 12 fields in line 560873, saw 13\nSkipping line 560875: Expected 12 fields in line 560875, saw 13\nSkipping line 560880: Expected 12 fields in line 560880, saw 13\nSkipping line 560896: Expected 12 fields in line 560896, saw 13\nSkipping line 561011: Expected 12 fields in line 561011, saw 13\nSkipping line 561012: Expected 12 fields in line 561012, saw 13\nSkipping line 561086: Expected 12 fields in line 561086, saw 13\nSkipping line 561089: Expected 12 fields in line 561089, saw 13\nSkipping line 561144: Expected 12 fields in line 561144, saw 13\nSkipping line 561152: Expected 12 fields in line 561152, saw 13\nSkipping line 561210: Expected 12 fields in line 561210, saw 13\nSkipping line 561278: Expected 12 fields in line 561278, saw 13\nSkipping line 561284: Expected 12 fields in line 561284, saw 13\nSkipping line 561288: Expected 12 fields in line 561288, saw 13\nSkipping line 561350: Expected 12 fields in line 561350, saw 13\nSkipping line 561355: Expected 12 fields in line 561355, saw 13\nSkipping line 561421: Expected 12 fields in line 561421, saw 13\nSkipping line 561557: Expected 12 fields in line 561557, saw 13\nSkipping line 561678: Expected 12 fields in line 561678, saw 13\nSkipping line 561745: Expected 12 fields in line 561745, saw 13\nSkipping line 561747: Expected 12 fields in line 561747, saw 13\nSkipping line 561821: Expected 12 fields in line 561821, saw 13\nSkipping line 562064: Expected 12 fields in line 562064, saw 13\nSkipping line 562334: Expected 12 fields in line 562334, saw 13\nSkipping line 562343: Expected 12 fields in line 562343, saw 13\nSkipping line 562399: Expected 12 fields in line 562399, saw 13\nSkipping line 562480: Expected 12 fields in line 562480, saw 13\nSkipping line 562729: Expected 12 fields in line 562729, saw 13\nSkipping line 562805: Expected 12 fields in line 562805, saw 13\nSkipping line 563863: Expected 12 fields in line 563863, saw 13\nSkipping line 563928: Expected 12 fields in line 563928, saw 13\nSkipping line 564396: Expected 12 fields in line 564396, saw 13\nSkipping line 564840: Expected 12 fields in line 564840, saw 13\nSkipping line 564973: Expected 12 fields in line 564973, saw 13\nSkipping line 565236: Expected 12 fields in line 565236, saw 13\nSkipping line 565776: Expected 12 fields in line 565776, saw 13\nSkipping line 565935: Expected 12 fields in line 565935, saw 13\nSkipping line 566452: Expected 12 fields in line 566452, saw 13\nSkipping line 566767: Expected 12 fields in line 566767, saw 13\nSkipping line 566833: Expected 12 fields in line 566833, saw 13\nSkipping line 566847: Expected 12 fields in line 566847, saw 13\nSkipping line 567623: Expected 12 fields in line 567623, saw 13\nSkipping line 567724: Expected 12 fields in line 567724, saw 13\nSkipping line 568291: Expected 12 fields in line 568291, saw 13\nSkipping line 568338: Expected 12 fields in line 568338, saw 13\nSkipping line 568729: Expected 12 fields in line 568729, saw 13\nSkipping line 569329: Expected 12 fields in line 569329, saw 13\nSkipping line 569461: Expected 12 fields in line 569461, saw 13\nSkipping line 569700: Expected 12 fields in line 569700, saw 13\nSkipping line 569800: Expected 12 fields in line 569800, saw 13\nSkipping line 569959: Expected 12 fields in line 569959, saw 13\nSkipping line 569963: Expected 12 fields in line 569963, saw 13\nSkipping line 569964: Expected 12 fields in line 569964, saw 13\nSkipping line 570060: Expected 12 fields in line 570060, saw 13\nSkipping line 570130: Expected 12 fields in line 570130, saw 13\nSkipping line 570211: Expected 12 fields in line 570211, saw 13\nSkipping line 570396: Expected 12 fields in line 570396, saw 13\nSkipping line 570662: Expected 12 fields in line 570662, saw 13\nSkipping line 571014: Expected 12 fields in line 571014, saw 13\nSkipping line 571120: Expected 12 fields in line 571120, saw 13\nSkipping line 571121: Expected 12 fields in line 571121, saw 13\nSkipping line 571149: Expected 12 fields in line 571149, saw 13\nSkipping line 571217: Expected 12 fields in line 571217, saw 13\nSkipping line 571228: Expected 12 fields in line 571228, saw 13\nSkipping line 571313: Expected 12 fields in line 571313, saw 13\nSkipping line 571384: Expected 12 fields in line 571384, saw 13\nSkipping line 571387: Expected 12 fields in line 571387, saw 13\nSkipping line 571452: Expected 12 fields in line 571452, saw 13\nSkipping line 571609: Expected 12 fields in line 571609, saw 13\nSkipping line 571633: Expected 12 fields in line 571633, saw 13\nSkipping line 571634: Expected 12 fields in line 571634, saw 13\nSkipping line 571642: Expected 12 fields in line 571642, saw 13\nSkipping line 571672: Expected 12 fields in line 571672, saw 13\nSkipping line 571755: Expected 12 fields in line 571755, saw 13\nSkipping line 571826: Expected 12 fields in line 571826, saw 13\nSkipping line 571840: Expected 12 fields in line 571840, saw 13\nSkipping line 571877: Expected 12 fields in line 571877, saw 13\nSkipping line 571906: Expected 12 fields in line 571906, saw 13\nSkipping line 571933: Expected 12 fields in line 571933, saw 13\nSkipping line 571948: Expected 12 fields in line 571948, saw 13\nSkipping line 571987: Expected 12 fields in line 571987, saw 13\nSkipping line 572002: Expected 12 fields in line 572002, saw 13\nSkipping line 572128: Expected 12 fields in line 572128, saw 13\nSkipping line 572253: Expected 12 fields in line 572253, saw 13\nSkipping line 572257: Expected 12 fields in line 572257, saw 13\nSkipping line 572268: Expected 12 fields in line 572268, saw 13\nSkipping line 572337: Expected 12 fields in line 572337, saw 13\nSkipping line 572342: Expected 12 fields in line 572342, saw 13\nSkipping line 572400: Expected 12 fields in line 572400, saw 13\nSkipping line 572530: Expected 12 fields in line 572530, saw 13\nSkipping line 572621: Expected 12 fields in line 572621, saw 13\nSkipping line 572627: Expected 12 fields in line 572627, saw 13\nSkipping line 572718: Expected 12 fields in line 572718, saw 13\nSkipping line 572794: Expected 12 fields in line 572794, saw 13\nSkipping line 573048: Expected 12 fields in line 573048, saw 13\nSkipping line 573059: Expected 12 fields in line 573059, saw 13\nSkipping line 573247: Expected 12 fields in line 573247, saw 13\nSkipping line 573277: Expected 12 fields in line 573277, saw 13\nSkipping line 573528: Expected 12 fields in line 573528, saw 13\nSkipping line 573850: Expected 12 fields in line 573850, saw 13\nSkipping line 573966: Expected 12 fields in line 573966, saw 13\nSkipping line 574032: Expected 12 fields in line 574032, saw 13\nSkipping line 574055: Expected 12 fields in line 574055, saw 13\nSkipping line 574428: Expected 12 fields in line 574428, saw 13\nSkipping line 574467: Expected 12 fields in line 574467, saw 13\nSkipping line 574518: Expected 12 fields in line 574518, saw 13\nSkipping line 574584: Expected 12 fields in line 574584, saw 13\nSkipping line 574837: Expected 12 fields in line 574837, saw 13\nSkipping line 574938: Expected 12 fields in line 574938, saw 13\nSkipping line 574973: Expected 12 fields in line 574973, saw 13\nSkipping line 575103: Expected 12 fields in line 575103, saw 13\nSkipping line 575299: Expected 12 fields in line 575299, saw 13\nSkipping line 575366: Expected 12 fields in line 575366, saw 13\nSkipping line 575398: Expected 12 fields in line 575398, saw 13\nSkipping line 576482: Expected 12 fields in line 576482, saw 13\nSkipping line 576615: Expected 12 fields in line 576615, saw 13\nSkipping line 576925: Expected 12 fields in line 576925, saw 13\nSkipping line 577057: Expected 12 fields in line 577057, saw 13\nSkipping line 577117: Expected 12 fields in line 577117, saw 13\nSkipping line 577567: Expected 12 fields in line 577567, saw 13\nSkipping line 577665: Expected 12 fields in line 577665, saw 13\nSkipping line 577728: Expected 12 fields in line 577728, saw 13\nSkipping line 577843: Expected 12 fields in line 577843, saw 13\nSkipping line 578025: Expected 12 fields in line 578025, saw 13\nSkipping line 578032: Expected 12 fields in line 578032, saw 13\nSkipping line 578040: Expected 12 fields in line 578040, saw 13\nSkipping line 578050: Expected 12 fields in line 578050, saw 13\nSkipping line 578081: Expected 12 fields in line 578081, saw 13\nSkipping line 578094: Expected 12 fields in line 578094, saw 13\nSkipping line 578095: Expected 12 fields in line 578095, saw 13\n"
    }
   ],
   "source": [
    "neaby = read_txt(nearby_file, sep=',')"
   ]
  },
  {
   "cell_type": "code",
   "execution_count": 15,
   "metadata": {},
   "outputs": [
    {
     "output_type": "execute_result",
     "data": {
      "text/plain": "           时间       站点编号  PM2.5浓度  PM10浓度   CO浓度  NO2浓度  SO2浓度   O3浓度  \\\n0  2019010100  110000246     54.0    91.0    1.1   76.0   21.0    3.0   \n1  2019010100  110000249   -999.0  -999.0 -999.0 -999.0 -999.0 -999.0   \n2  2019010100  110000252     53.0    76.0    1.2   75.0   15.0    0.0   \n3  2019010100  110000253   -999.0  -999.0 -999.0 -999.0 -999.0 -999.0   \n4  2019010100  120000123   -999.0  -999.0 -999.0 -999.0 -999.0 -999.0   \n\n   O3 8小时浓度    AQI 空气质量等级        首要污染物  \n0       3.0   74.0      良  细颗粒物(PM2.5)  \n1       1.0 -999.0      —            —  \n2       0.0   73.0      良  细颗粒物(PM2.5)  \n3       8.0 -999.0      —            —  \n4      10.0 -999.0      —            —  ",
      "text/html": "<div>\n<style scoped>\n    .dataframe tbody tr th:only-of-type {\n        vertical-align: middle;\n    }\n\n    .dataframe tbody tr th {\n        vertical-align: top;\n    }\n\n    .dataframe thead th {\n        text-align: right;\n    }\n</style>\n<table border=\"1\" class=\"dataframe\">\n  <thead>\n    <tr style=\"text-align: right;\">\n      <th></th>\n      <th>时间</th>\n      <th>站点编号</th>\n      <th>PM2.5浓度</th>\n      <th>PM10浓度</th>\n      <th>CO浓度</th>\n      <th>NO2浓度</th>\n      <th>SO2浓度</th>\n      <th>O3浓度</th>\n      <th>O3 8小时浓度</th>\n      <th>AQI</th>\n      <th>空气质量等级</th>\n      <th>首要污染物</th>\n    </tr>\n  </thead>\n  <tbody>\n    <tr>\n      <th>0</th>\n      <td>2019010100</td>\n      <td>110000246</td>\n      <td>54.0</td>\n      <td>91.0</td>\n      <td>1.1</td>\n      <td>76.0</td>\n      <td>21.0</td>\n      <td>3.0</td>\n      <td>3.0</td>\n      <td>74.0</td>\n      <td>良</td>\n      <td>细颗粒物(PM2.5)</td>\n    </tr>\n    <tr>\n      <th>1</th>\n      <td>2019010100</td>\n      <td>110000249</td>\n      <td>-999.0</td>\n      <td>-999.0</td>\n      <td>-999.0</td>\n      <td>-999.0</td>\n      <td>-999.0</td>\n      <td>-999.0</td>\n      <td>1.0</td>\n      <td>-999.0</td>\n      <td>—</td>\n      <td>—</td>\n    </tr>\n    <tr>\n      <th>2</th>\n      <td>2019010100</td>\n      <td>110000252</td>\n      <td>53.0</td>\n      <td>76.0</td>\n      <td>1.2</td>\n      <td>75.0</td>\n      <td>15.0</td>\n      <td>0.0</td>\n      <td>0.0</td>\n      <td>73.0</td>\n      <td>良</td>\n      <td>细颗粒物(PM2.5)</td>\n    </tr>\n    <tr>\n      <th>3</th>\n      <td>2019010100</td>\n      <td>110000253</td>\n      <td>-999.0</td>\n      <td>-999.0</td>\n      <td>-999.0</td>\n      <td>-999.0</td>\n      <td>-999.0</td>\n      <td>-999.0</td>\n      <td>8.0</td>\n      <td>-999.0</td>\n      <td>—</td>\n      <td>—</td>\n    </tr>\n    <tr>\n      <th>4</th>\n      <td>2019010100</td>\n      <td>120000123</td>\n      <td>-999.0</td>\n      <td>-999.0</td>\n      <td>-999.0</td>\n      <td>-999.0</td>\n      <td>-999.0</td>\n      <td>-999.0</td>\n      <td>10.0</td>\n      <td>-999.0</td>\n      <td>—</td>\n      <td>—</td>\n    </tr>\n  </tbody>\n</table>\n</div>"
     },
     "metadata": {},
     "execution_count": 15
    }
   ],
   "source": [
    "neaby.head()"
   ]
  },
  {
   "cell_type": "code",
   "execution_count": 31,
   "metadata": {},
   "outputs": [
    {
     "output_type": "execute_result",
     "data": {
      "text/plain": "             时间       站点编号  PM2.5浓度  PM10浓度\n1    2019010100  110000249      NaN     NaN\n67   2019010101  110000249      NaN     NaN\n133  2019010102  110000249      NaN     NaN\n199  2019010103  110000249     54.0    80.0\n265  2019010104  110000249     50.0    66.0",
      "text/html": "<div>\n<style scoped>\n    .dataframe tbody tr th:only-of-type {\n        vertical-align: middle;\n    }\n\n    .dataframe tbody tr th {\n        vertical-align: top;\n    }\n\n    .dataframe thead th {\n        text-align: right;\n    }\n</style>\n<table border=\"1\" class=\"dataframe\">\n  <thead>\n    <tr style=\"text-align: right;\">\n      <th></th>\n      <th>时间</th>\n      <th>站点编号</th>\n      <th>PM2.5浓度</th>\n      <th>PM10浓度</th>\n    </tr>\n  </thead>\n  <tbody>\n    <tr>\n      <th>1</th>\n      <td>2019010100</td>\n      <td>110000249</td>\n      <td>NaN</td>\n      <td>NaN</td>\n    </tr>\n    <tr>\n      <th>67</th>\n      <td>2019010101</td>\n      <td>110000249</td>\n      <td>NaN</td>\n      <td>NaN</td>\n    </tr>\n    <tr>\n      <th>133</th>\n      <td>2019010102</td>\n      <td>110000249</td>\n      <td>NaN</td>\n      <td>NaN</td>\n    </tr>\n    <tr>\n      <th>199</th>\n      <td>2019010103</td>\n      <td>110000249</td>\n      <td>54.0</td>\n      <td>80.0</td>\n    </tr>\n    <tr>\n      <th>265</th>\n      <td>2019010104</td>\n      <td>110000249</td>\n      <td>50.0</td>\n      <td>66.0</td>\n    </tr>\n  </tbody>\n</table>\n</div>"
     },
     "metadata": {},
     "execution_count": 31
    }
   ],
   "source": [
    "n_test = neaby.loc[neaby['站点编号']==110000249, ['时间','站点编号','PM2.5浓度','PM10浓度']]\n",
    "n_test.replace(-999.0, np.nan, inplace=True)\n",
    "n_test.head()"
   ]
  },
  {
   "cell_type": "code",
   "execution_count": 21,
   "metadata": {},
   "outputs": [
    {
     "output_type": "execute_result",
     "data": {
      "text/plain": "            time  stationcode  longitude  latitude  PM10  PM25  F-  Cl-  NO3-  \\\n0  2019-01-01:00    110000006    116.041    39.597   NaN   NaN NaN  NaN   NaN   \n1  2019-01-01:01    110000006    116.041    39.597   NaN   NaN NaN  NaN   NaN   \n2  2019-01-01:02    110000006    116.041    39.597   NaN   NaN NaN  NaN   NaN   \n3  2019-01-01:03    110000006    116.041    39.597   NaN   NaN NaN  NaN   NaN   \n4  2019-01-01:04    110000006    116.041    39.597   NaN   NaN NaN  NaN   NaN   \n\n   SO42-  ...  Cr  Cs  Ag  Zn  Sb  Sn  Mn  Cd  Ni  Ga  \n0    NaN  ... NaN NaN NaN NaN NaN NaN NaN NaN NaN NaN  \n1    NaN  ... NaN NaN NaN NaN NaN NaN NaN NaN NaN NaN  \n2    NaN  ... NaN NaN NaN NaN NaN NaN NaN NaN NaN NaN  \n3    NaN  ... NaN NaN NaN NaN NaN NaN NaN NaN NaN NaN  \n4    NaN  ... NaN NaN NaN NaN NaN NaN NaN NaN NaN NaN  \n\n[5 rows x 47 columns]",
      "text/html": "<div>\n<style scoped>\n    .dataframe tbody tr th:only-of-type {\n        vertical-align: middle;\n    }\n\n    .dataframe tbody tr th {\n        vertical-align: top;\n    }\n\n    .dataframe thead th {\n        text-align: right;\n    }\n</style>\n<table border=\"1\" class=\"dataframe\">\n  <thead>\n    <tr style=\"text-align: right;\">\n      <th></th>\n      <th>time</th>\n      <th>stationcode</th>\n      <th>longitude</th>\n      <th>latitude</th>\n      <th>PM10</th>\n      <th>PM25</th>\n      <th>F-</th>\n      <th>Cl-</th>\n      <th>NO3-</th>\n      <th>SO42-</th>\n      <th>...</th>\n      <th>Cr</th>\n      <th>Cs</th>\n      <th>Ag</th>\n      <th>Zn</th>\n      <th>Sb</th>\n      <th>Sn</th>\n      <th>Mn</th>\n      <th>Cd</th>\n      <th>Ni</th>\n      <th>Ga</th>\n    </tr>\n  </thead>\n  <tbody>\n    <tr>\n      <th>0</th>\n      <td>2019-01-01:00</td>\n      <td>110000006</td>\n      <td>116.041</td>\n      <td>39.597</td>\n      <td>NaN</td>\n      <td>NaN</td>\n      <td>NaN</td>\n      <td>NaN</td>\n      <td>NaN</td>\n      <td>NaN</td>\n      <td>...</td>\n      <td>NaN</td>\n      <td>NaN</td>\n      <td>NaN</td>\n      <td>NaN</td>\n      <td>NaN</td>\n      <td>NaN</td>\n      <td>NaN</td>\n      <td>NaN</td>\n      <td>NaN</td>\n      <td>NaN</td>\n    </tr>\n    <tr>\n      <th>1</th>\n      <td>2019-01-01:01</td>\n      <td>110000006</td>\n      <td>116.041</td>\n      <td>39.597</td>\n      <td>NaN</td>\n      <td>NaN</td>\n      <td>NaN</td>\n      <td>NaN</td>\n      <td>NaN</td>\n      <td>NaN</td>\n      <td>...</td>\n      <td>NaN</td>\n      <td>NaN</td>\n      <td>NaN</td>\n      <td>NaN</td>\n      <td>NaN</td>\n      <td>NaN</td>\n      <td>NaN</td>\n      <td>NaN</td>\n      <td>NaN</td>\n      <td>NaN</td>\n    </tr>\n    <tr>\n      <th>2</th>\n      <td>2019-01-01:02</td>\n      <td>110000006</td>\n      <td>116.041</td>\n      <td>39.597</td>\n      <td>NaN</td>\n      <td>NaN</td>\n      <td>NaN</td>\n      <td>NaN</td>\n      <td>NaN</td>\n      <td>NaN</td>\n      <td>...</td>\n      <td>NaN</td>\n      <td>NaN</td>\n      <td>NaN</td>\n      <td>NaN</td>\n      <td>NaN</td>\n      <td>NaN</td>\n      <td>NaN</td>\n      <td>NaN</td>\n      <td>NaN</td>\n      <td>NaN</td>\n    </tr>\n    <tr>\n      <th>3</th>\n      <td>2019-01-01:03</td>\n      <td>110000006</td>\n      <td>116.041</td>\n      <td>39.597</td>\n      <td>NaN</td>\n      <td>NaN</td>\n      <td>NaN</td>\n      <td>NaN</td>\n      <td>NaN</td>\n      <td>NaN</td>\n      <td>...</td>\n      <td>NaN</td>\n      <td>NaN</td>\n      <td>NaN</td>\n      <td>NaN</td>\n      <td>NaN</td>\n      <td>NaN</td>\n      <td>NaN</td>\n      <td>NaN</td>\n      <td>NaN</td>\n      <td>NaN</td>\n    </tr>\n    <tr>\n      <th>4</th>\n      <td>2019-01-01:04</td>\n      <td>110000006</td>\n      <td>116.041</td>\n      <td>39.597</td>\n      <td>NaN</td>\n      <td>NaN</td>\n      <td>NaN</td>\n      <td>NaN</td>\n      <td>NaN</td>\n      <td>NaN</td>\n      <td>...</td>\n      <td>NaN</td>\n      <td>NaN</td>\n      <td>NaN</td>\n      <td>NaN</td>\n      <td>NaN</td>\n      <td>NaN</td>\n      <td>NaN</td>\n      <td>NaN</td>\n      <td>NaN</td>\n      <td>NaN</td>\n    </tr>\n  </tbody>\n</table>\n<p>5 rows × 47 columns</p>\n</div>"
     },
     "metadata": {},
     "execution_count": 21
    }
   ],
   "source": [
    "org = read_org(os.path.join(qc_src, '110000006.txt'))\n",
    "org.head()"
   ]
  },
  {
   "cell_type": "code",
   "execution_count": 38,
   "metadata": {},
   "outputs": [
    {
     "output_type": "stream",
     "name": "stdout",
     "text": "<class 'pandas.core.frame.DataFrame'>\nInt64Index: 8709 entries, 1 to 573230\nData columns (total 5 columns):\n #   Column   Non-Null Count  Dtype  \n---  ------   --------------  -----  \n 0   时间       8709 non-null   int64  \n 1   站点编号     8709 non-null   int64  \n 2   PM2.5浓度  8565 non-null   float64\n 3   PM10浓度   8135 non-null   float64\n 4   time     8709 non-null   object \ndtypes: float64(2), int64(2), object(1)\nmemory usage: 728.2+ KB\n"
    }
   ],
   "source": [
    "from datetime import datetime, timedelta\n",
    "\n",
    "def parse_time(x):\n",
    "    return datetime.strptime(str(x), \"%Y%m%d%H\").strftime('%Y-%m-%d:%H')\n",
    "\n",
    "n_test['time'] = n_test['时间'].apply(parse_time)\n",
    "n_test.info()"
   ]
  },
  {
   "cell_type": "code",
   "execution_count": 39,
   "metadata": {},
   "outputs": [
    {
     "output_type": "stream",
     "name": "stdout",
     "text": "<class 'pandas.core.frame.DataFrame'>\nRangeIndex: 8760 entries, 0 to 8759\nData columns (total 4 columns):\n #   Column       Non-Null Count  Dtype  \n---  ------       --------------  -----  \n 0   time         8760 non-null   object \n 1   stationcode  8760 non-null   int64  \n 2   PM10         0 non-null      float64\n 3   PM25         0 non-null      float64\ndtypes: float64(2), int64(1), object(1)\nmemory usage: 273.9+ KB\n"
    }
   ],
   "source": [
    "o_test = org[['time','stationcode','PM10','PM25']]\n",
    "o_test.info()"
   ]
  },
  {
   "cell_type": "code",
   "execution_count": 42,
   "metadata": {},
   "outputs": [
    {
     "output_type": "execute_result",
     "data": {
      "text/plain": "            time  stationcode  PM10  PM25            时间         站点编号  PM2.5浓度  \\\n0  2019-01-01:00    110000006   NaN   NaN  2.019010e+09  110000249.0      NaN   \n1  2019-01-01:01    110000006   NaN   NaN  2.019010e+09  110000249.0      NaN   \n2  2019-01-01:02    110000006   NaN   NaN  2.019010e+09  110000249.0      NaN   \n3  2019-01-01:03    110000006   NaN   NaN  2.019010e+09  110000249.0     54.0   \n4  2019-01-01:04    110000006   NaN   NaN  2.019010e+09  110000249.0     50.0   \n\n   PM10浓度  \n0     NaN  \n1     NaN  \n2     NaN  \n3    80.0  \n4    66.0  ",
      "text/html": "<div>\n<style scoped>\n    .dataframe tbody tr th:only-of-type {\n        vertical-align: middle;\n    }\n\n    .dataframe tbody tr th {\n        vertical-align: top;\n    }\n\n    .dataframe thead th {\n        text-align: right;\n    }\n</style>\n<table border=\"1\" class=\"dataframe\">\n  <thead>\n    <tr style=\"text-align: right;\">\n      <th></th>\n      <th>time</th>\n      <th>stationcode</th>\n      <th>PM10</th>\n      <th>PM25</th>\n      <th>时间</th>\n      <th>站点编号</th>\n      <th>PM2.5浓度</th>\n      <th>PM10浓度</th>\n    </tr>\n  </thead>\n  <tbody>\n    <tr>\n      <th>0</th>\n      <td>2019-01-01:00</td>\n      <td>110000006</td>\n      <td>NaN</td>\n      <td>NaN</td>\n      <td>2.019010e+09</td>\n      <td>110000249.0</td>\n      <td>NaN</td>\n      <td>NaN</td>\n    </tr>\n    <tr>\n      <th>1</th>\n      <td>2019-01-01:01</td>\n      <td>110000006</td>\n      <td>NaN</td>\n      <td>NaN</td>\n      <td>2.019010e+09</td>\n      <td>110000249.0</td>\n      <td>NaN</td>\n      <td>NaN</td>\n    </tr>\n    <tr>\n      <th>2</th>\n      <td>2019-01-01:02</td>\n      <td>110000006</td>\n      <td>NaN</td>\n      <td>NaN</td>\n      <td>2.019010e+09</td>\n      <td>110000249.0</td>\n      <td>NaN</td>\n      <td>NaN</td>\n    </tr>\n    <tr>\n      <th>3</th>\n      <td>2019-01-01:03</td>\n      <td>110000006</td>\n      <td>NaN</td>\n      <td>NaN</td>\n      <td>2.019010e+09</td>\n      <td>110000249.0</td>\n      <td>54.0</td>\n      <td>80.0</td>\n    </tr>\n    <tr>\n      <th>4</th>\n      <td>2019-01-01:04</td>\n      <td>110000006</td>\n      <td>NaN</td>\n      <td>NaN</td>\n      <td>2.019010e+09</td>\n      <td>110000249.0</td>\n      <td>50.0</td>\n      <td>66.0</td>\n    </tr>\n  </tbody>\n</table>\n</div>"
     },
     "metadata": {},
     "execution_count": 42
    }
   ],
   "source": [
    "df = o_test.merge(n_test, left_on='time', right_on='time', how='outer')\n",
    "df.head()"
   ]
  },
  {
   "cell_type": "code",
   "execution_count": 46,
   "metadata": {},
   "outputs": [
    {
     "output_type": "stream",
     "name": "stdout",
     "text": "<class 'pandas.core.frame.DataFrame'>\nInt64Index: 8760 entries, 0 to 8759\nData columns (total 8 columns):\n #   Column       Non-Null Count  Dtype  \n---  ------       --------------  -----  \n 0   time         8760 non-null   object \n 1   stationcode  8760 non-null   int64  \n 2   PM10         0 non-null      float64\n 3   PM25         0 non-null      float64\n 4   时间           8709 non-null   float64\n 5   站点编号         8709 non-null   float64\n 6   PM2.5浓度      8565 non-null   float64\n 7   PM10浓度       8135 non-null   float64\ndtypes: float64(6), int64(1), object(1)\nmemory usage: 935.9+ KB\n"
    }
   ],
   "source": [
    "df.info()"
   ]
  },
  {
   "cell_type": "code",
   "execution_count": 59,
   "metadata": {},
   "outputs": [
    {
     "output_type": "execute_result",
     "data": {
      "text/plain": "0        NaN\n1        NaN\n2        NaN\n3       80.0\n4       66.0\n        ... \n8755    72.0\n8756    95.0\n8757    76.0\n8758    63.0\n8759    57.0\nLength: 8760, dtype: float64"
     },
     "metadata": {},
     "execution_count": 59
    }
   ],
   "source": [
    "np.max(df[['PM10', 'PM10浓度']], axis=1)"
   ]
  },
  {
   "cell_type": "code",
   "execution_count": 61,
   "metadata": {},
   "outputs": [
    {
     "output_type": "execute_result",
     "data": {
      "text/plain": "               time  stationcode  PM10  PM25            时间         站点编号  \\\n0     2019-01-01:00    110000006   NaN   NaN  2.019010e+09  110000249.0   \n1     2019-01-01:01    110000006   NaN   NaN  2.019010e+09  110000249.0   \n2     2019-01-01:02    110000006   NaN   NaN  2.019010e+09  110000249.0   \n3     2019-01-01:03    110000006  80.0   NaN  2.019010e+09  110000249.0   \n4     2019-01-01:04    110000006  66.0   NaN  2.019010e+09  110000249.0   \n...             ...          ...   ...   ...           ...          ...   \n8755  2019-12-31:19    110000006  72.0   NaN  2.019123e+09  110000249.0   \n8756  2019-12-31:20    110000006  95.0   NaN  2.019123e+09  110000249.0   \n8757  2019-12-31:21    110000006  76.0   NaN  2.019123e+09  110000249.0   \n8758  2019-12-31:22    110000006  63.0   NaN  2.019123e+09  110000249.0   \n8759  2019-12-31:23    110000006  57.0   NaN  2.019123e+09  110000249.0   \n\n      PM2.5浓度  PM10浓度     a  \n0         NaN     NaN   NaN  \n1         NaN     NaN   NaN  \n2         NaN     NaN   NaN  \n3        54.0    80.0  80.0  \n4        50.0    66.0  66.0  \n...       ...     ...   ...  \n8755     45.0    72.0  72.0  \n8756     45.0    95.0  95.0  \n8757     43.0    76.0  76.0  \n8758     38.0    63.0  63.0  \n8759     35.0    57.0  57.0  \n\n[8760 rows x 9 columns]",
      "text/html": "<div>\n<style scoped>\n    .dataframe tbody tr th:only-of-type {\n        vertical-align: middle;\n    }\n\n    .dataframe tbody tr th {\n        vertical-align: top;\n    }\n\n    .dataframe thead th {\n        text-align: right;\n    }\n</style>\n<table border=\"1\" class=\"dataframe\">\n  <thead>\n    <tr style=\"text-align: right;\">\n      <th></th>\n      <th>time</th>\n      <th>stationcode</th>\n      <th>PM10</th>\n      <th>PM25</th>\n      <th>时间</th>\n      <th>站点编号</th>\n      <th>PM2.5浓度</th>\n      <th>PM10浓度</th>\n      <th>a</th>\n    </tr>\n  </thead>\n  <tbody>\n    <tr>\n      <th>0</th>\n      <td>2019-01-01:00</td>\n      <td>110000006</td>\n      <td>NaN</td>\n      <td>NaN</td>\n      <td>2.019010e+09</td>\n      <td>110000249.0</td>\n      <td>NaN</td>\n      <td>NaN</td>\n      <td>NaN</td>\n    </tr>\n    <tr>\n      <th>1</th>\n      <td>2019-01-01:01</td>\n      <td>110000006</td>\n      <td>NaN</td>\n      <td>NaN</td>\n      <td>2.019010e+09</td>\n      <td>110000249.0</td>\n      <td>NaN</td>\n      <td>NaN</td>\n      <td>NaN</td>\n    </tr>\n    <tr>\n      <th>2</th>\n      <td>2019-01-01:02</td>\n      <td>110000006</td>\n      <td>NaN</td>\n      <td>NaN</td>\n      <td>2.019010e+09</td>\n      <td>110000249.0</td>\n      <td>NaN</td>\n      <td>NaN</td>\n      <td>NaN</td>\n    </tr>\n    <tr>\n      <th>3</th>\n      <td>2019-01-01:03</td>\n      <td>110000006</td>\n      <td>80.0</td>\n      <td>NaN</td>\n      <td>2.019010e+09</td>\n      <td>110000249.0</td>\n      <td>54.0</td>\n      <td>80.0</td>\n      <td>80.0</td>\n    </tr>\n    <tr>\n      <th>4</th>\n      <td>2019-01-01:04</td>\n      <td>110000006</td>\n      <td>66.0</td>\n      <td>NaN</td>\n      <td>2.019010e+09</td>\n      <td>110000249.0</td>\n      <td>50.0</td>\n      <td>66.0</td>\n      <td>66.0</td>\n    </tr>\n    <tr>\n      <th>...</th>\n      <td>...</td>\n      <td>...</td>\n      <td>...</td>\n      <td>...</td>\n      <td>...</td>\n      <td>...</td>\n      <td>...</td>\n      <td>...</td>\n      <td>...</td>\n    </tr>\n    <tr>\n      <th>8755</th>\n      <td>2019-12-31:19</td>\n      <td>110000006</td>\n      <td>72.0</td>\n      <td>NaN</td>\n      <td>2.019123e+09</td>\n      <td>110000249.0</td>\n      <td>45.0</td>\n      <td>72.0</td>\n      <td>72.0</td>\n    </tr>\n    <tr>\n      <th>8756</th>\n      <td>2019-12-31:20</td>\n      <td>110000006</td>\n      <td>95.0</td>\n      <td>NaN</td>\n      <td>2.019123e+09</td>\n      <td>110000249.0</td>\n      <td>45.0</td>\n      <td>95.0</td>\n      <td>95.0</td>\n    </tr>\n    <tr>\n      <th>8757</th>\n      <td>2019-12-31:21</td>\n      <td>110000006</td>\n      <td>76.0</td>\n      <td>NaN</td>\n      <td>2.019123e+09</td>\n      <td>110000249.0</td>\n      <td>43.0</td>\n      <td>76.0</td>\n      <td>76.0</td>\n    </tr>\n    <tr>\n      <th>8758</th>\n      <td>2019-12-31:22</td>\n      <td>110000006</td>\n      <td>63.0</td>\n      <td>NaN</td>\n      <td>2.019123e+09</td>\n      <td>110000249.0</td>\n      <td>38.0</td>\n      <td>63.0</td>\n      <td>63.0</td>\n    </tr>\n    <tr>\n      <th>8759</th>\n      <td>2019-12-31:23</td>\n      <td>110000006</td>\n      <td>57.0</td>\n      <td>NaN</td>\n      <td>2.019123e+09</td>\n      <td>110000249.0</td>\n      <td>35.0</td>\n      <td>57.0</td>\n      <td>57.0</td>\n    </tr>\n  </tbody>\n</table>\n<p>8760 rows × 9 columns</p>\n</div>"
     },
     "metadata": {},
     "execution_count": 61
    }
   ],
   "source": [
    "df['PM10'] = np.mean(df[['PM10', 'PM10浓度']], axis=1)\n",
    "df"
   ]
  },
  {
   "cell_type": "code",
   "execution_count": null,
   "metadata": {},
   "outputs": [],
   "source": []
  }
 ],
 "metadata": {
  "language_info": {
   "codemirror_mode": {
    "name": "ipython",
    "version": 3
   },
   "file_extension": ".py",
   "mimetype": "text/x-python",
   "name": "python",
   "nbconvert_exporter": "python",
   "pygments_lexer": "ipython3",
   "version": "3.7.6-final"
  },
  "orig_nbformat": 2,
  "kernelspec": {
   "name": "python37664bit3clearecflowconda879dcd402eb2477588c9625d632dad71",
   "display_name": "Python 3.7.6 64-bit ('3clear_ecflow': conda)"
  }
 },
 "nbformat": 4,
 "nbformat_minor": 2
}